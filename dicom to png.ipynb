{
 "cells": [
  {
   "cell_type": "code",
   "execution_count": 9,
   "metadata": {},
   "outputs": [],
   "source": [
    "import cv2\n",
    "import os\n",
    "import pydicom\n",
    "\n",
    "inputdir = '/home/nupur/Downloads/dicom/'\n",
    "outdir = '/home/nupur/Downloads/dic_op/'\n",
    "#os.mkdir(outdir)\n",
    "\n",
    "test_list = [ f for f in  os.listdir(inputdir)]\n",
    "\n",
    "for f in test_list[:10]:   # remove \"[:10]\" to convert all images \n",
    "    ds = pydicom.read_file(inputdir + f) # read dicom image\n",
    "    img = ds.pixel_array # get image array\n",
    "    cv2.imwrite(outdir + f.replace('.dcm','.jpg'),img) "
   ]
  },
  {
   "cell_type": "code",
   "execution_count": 10,
   "metadata": {},
   "outputs": [
    {
     "ename": "ImportError",
     "evalue": "No module named med2img",
     "output_type": "error",
     "traceback": [
      "\u001b[0;31m---------------------------------------------------------------------------\u001b[0m",
      "\u001b[0;31mImportError\u001b[0m                               Traceback (most recent call last)",
      "\u001b[0;32m<ipython-input-10-c757f0689519>\u001b[0m in \u001b[0;36m<module>\u001b[0;34m()\u001b[0m\n\u001b[0;32m----> 1\u001b[0;31m \u001b[0;32mimport\u001b[0m \u001b[0mmed2img\u001b[0m\u001b[0;34m\u001b[0m\u001b[0m\n\u001b[0m",
      "\u001b[0;31mImportError\u001b[0m: No module named med2img"
     ]
    }
   ],
   "source": [
    "import med2img"
   ]
  },
  {
   "cell_type": "code",
   "execution_count": 11,
   "metadata": {},
   "outputs": [
    {
     "name": "stdout",
     "output_type": "stream",
     "text": [
      "/bin/sh: 1: med2image: not found\r\n"
     ]
    }
   ],
   "source": [
    "!med2image -i \"/home/nupur/Downloads/dicom/10579622.dcm\" -d \"\"/home/nupur/Downloads/dic_op\"\" -o slice.jpg -s -1"
   ]
  },
  {
   "cell_type": "code",
   "execution_count": 1,
   "metadata": {},
   "outputs": [],
   "source": [
    "import pydicom as dicom\n",
    "import matplotlib.pyplot as plt\n",
    "import os\n",
    "import cv2\n",
    "import PIL # optional\n",
    "import pandas as pd\n",
    "import csv"
   ]
  },
  {
   "cell_type": "code",
   "execution_count": 17,
   "metadata": {},
   "outputs": [],
   "source": [
    "PNG = False\n",
    "# Specify the .dcm folder path\n",
    "folder_path = \"/home/nupur/Downloads/dicom/\"\n",
    "# Specify the output jpg/png folder path\n",
    "jpg_folder_path = \"/home/nupur/Downloads/dic_op/\"\n",
    "images_path = os.listdir(folder_path)\n",
    "\n",
    "    '''\n",
    "    if PNG == False:\n",
    "        image = image.replace('.dcm', '.jpg')\n",
    "    else:\n",
    "        image = image.replace('.dcm', '.png')\n",
    "    cv2.imwrite(os.path.join(jpg_folder_path, image), pixel_array_numpy)\n",
    "    if n % 50 == 0:\n",
    "        print('{} image converted'.format(n))\n",
    "    '''"
   ]
  },
  {
   "cell_type": "code",
   "execution_count": 18,
   "metadata": {},
   "outputs": [],
   "source": [
    "for n, image in enumerate(images_path):\n",
    "    ds = dicom.dcmread(os.path.join(folder_path, image))\n",
    "    pixel_array_numpy = ds.pixel_array\n",
    "    image = image.replace('.dcm', '.jpg')"
   ]
  },
  {
   "cell_type": "code",
   "execution_count": 1,
   "metadata": {},
   "outputs": [],
   "source": [
    "import numpy as np\n",
    "import png, os, pydicom\n",
    "\n",
    "source_folder = \"/home/nupur/Desktop/lungcncer/test/\"\n",
    "output_folder = \"//home/nupur/Desktop/lungcncer/op/\"\n",
    "\n",
    "\n",
    "def dicom2png(source_folder, output_folder):\n",
    "    list_of_files = os.listdir(source_folder)\n",
    "    for file in list_of_files:\n",
    "        try:\n",
    "            ds = pydicom.dcmread(os.path.join(source_folder,file))\n",
    "            shape = ds.pixel_array.shape\n",
    "\n",
    "            # Convert to float to avoid overflow or underflow losses.\n",
    "            image_2d = ds.pixel_array.astype(float)\n",
    "\n",
    "            # Rescaling grey scale between 0-255\n",
    "            image_2d_scaled = (np.maximum(image_2d,0) / image_2d.max()) * 255.0\n",
    "\n",
    "            # Convert to uint\n",
    "            image_2d_scaled = np.uint8(image_2d_scaled)\n",
    "\n",
    "            # Write the PNG file\n",
    "            with open(os.path.join(output_folder,file)+'.png' , 'wb') as png_file:\n",
    "                w = png.Writer(shape[1], shape[0], greyscale=True)\n",
    "                w.write(png_file, image_2d_scaled)\n",
    "        except:\n",
    "            print('Could not convert: ', file)\n",
    "\n",
    "\n"
   ]
  },
  {
   "cell_type": "code",
   "execution_count": 2,
   "metadata": {},
   "outputs": [],
   "source": [
    "dicom2png(source_folder, output_folder)"
   ]
  },
  {
   "cell_type": "code",
   "execution_count": null,
   "metadata": {},
   "outputs": [],
   "source": []
  }
 ],
 "metadata": {
  "kernelspec": {
   "display_name": "Python 3",
   "language": "python",
   "name": "python3"
  },
  "language_info": {
   "codemirror_mode": {
    "name": "ipython",
    "version": 3
   },
   "file_extension": ".py",
   "mimetype": "text/x-python",
   "name": "python",
   "nbconvert_exporter": "python",
   "pygments_lexer": "ipython3",
   "version": "3.6.8"
  }
 },
 "nbformat": 4,
 "nbformat_minor": 2
}
